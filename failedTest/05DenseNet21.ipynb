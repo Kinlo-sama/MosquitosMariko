{
 "cells": [
  {
   "cell_type": "code",
   "execution_count": 10,
   "id": "dff4ad93",
   "metadata": {},
   "outputs": [],
   "source": [
    "import torch; import torch.nn as nn; from torch.optim import lr_scheduler\n",
    "import torch.optim as optim; from torch.utils.data.dataset import random_split as split \n",
    "from torch.utils.data import DataLoader, Dataset\n",
    "from torchvision import models\n",
    "from torchaudio import transforms\n",
    "\n",
    "from tqdm import trange\n",
    "import time\n",
    "from tempfile import TemporaryDirectory\n",
    "import matplotlib.pyplot as plt \n",
    "import numpy as np\n",
    "import librosa \n",
    "from sklearn.model_selection import train_test_split\n",
    "import pandas as pd\n",
    "import math\n",
    "import os\n",
    "\n",
    "MIN_SAMPLES = True\n",
    "PATH_ANNOTATIONS = 'Wingbeats/min_annotations.txt' if MIN_SAMPLES else 'Wingbeats/annotations.txt'\n",
    "n_classes = 6\n",
    "lr = 1e-4\n",
    "n_epochs = 50\n",
    "batch_size = 64\n",
    "SAMPLE_RATE = 8_000\n",
    "nyquist_frequency = SAMPLE_RATE / 2\n",
    "classes = ['An. gambiae', 'C. pipiens', 'C. quinquefasciatus', 'Ae. albopictus', 'An. arabiensis', 'Ae. aegypti']\n",
    "n_fft = 256\n",
    "device = torch.accelerator.current_accelerator().type if torch.accelerator.is_available else 'cpu'"
   ]
  },
  {
   "cell_type": "code",
   "execution_count": 11,
   "id": "934c8025",
   "metadata": {},
   "outputs": [],
   "source": [
    "def dividirDatos(archivoAnnotaciones, test_size=0.2, random_state=42):\n",
    "    df = pd.read_csv(archivoAnnotaciones)\n",
    "    train_df, test_df = train_test_split(\n",
    "        df, \n",
    "        test_size=test_size,\n",
    "        random_state=random_state,\n",
    "        stratify=df['label']\n",
    "    )\n",
    "    print('Total = ', len(df))\n",
    "    print('Total train = ', len(train_df))\n",
    "    print('Total test = ', len(test_df))\n",
    "    return train_df, test_df"
   ]
  },
  {
   "cell_type": "code",
   "execution_count": 12,
   "id": "8d4a045c",
   "metadata": {},
   "outputs": [],
   "source": [
    "class AudioDatasetFromTxt(Dataset):\n",
    "    def __init__(self, dataframe, transform=None):\n",
    "        self.dataframe = dataframe\n",
    "        self.transform = transform\n",
    "    \n",
    "    def __len__(self):\n",
    "        return len(self.dataframe)\n",
    "    \n",
    "    def __getitem__(self, index):\n",
    "        audio_path = self.dataframe.iloc[index]['file_path']\n",
    "        label = self.dataframe.iloc[index]['label']\n",
    "        \n",
    "        waveform, _ = librosa.load(audio_path, sr=SAMPLE_RATE)\n",
    "        \n",
    "        waveform = torch.from_numpy(waveform).float().unsqueeze(0)\n",
    "        \n",
    "        if self.transform:\n",
    "            spectrogram = self.transform(waveform)\n",
    "            return spectrogram, label\n",
    "        else:\n",
    "            return waveform, label"
   ]
  },
  {
   "cell_type": "code",
   "execution_count": 13,
   "id": "fc8ffae2",
   "metadata": {},
   "outputs": [],
   "source": [
    "spectrogram = transforms.Spectrogram(n_fft=n_fft, hop_length=n_fft//6)"
   ]
  },
  {
   "cell_type": "code",
   "execution_count": 14,
   "id": "28ce398a",
   "metadata": {},
   "outputs": [
    {
     "name": "stdout",
     "output_type": "stream",
     "text": [
      "Total =  115782\n",
      "Total train =  92625\n",
      "Total test =  23157\n"
     ]
    }
   ],
   "source": [
    "train_df, test_df = dividirDatos(PATH_ANNOTATIONS)"
   ]
  },
  {
   "cell_type": "code",
   "execution_count": 15,
   "id": "4febf241",
   "metadata": {},
   "outputs": [
    {
     "name": "stdout",
     "output_type": "stream",
     "text": [
      "{'train': 83362, 'val': 9263, 'test': 23157}\n",
      "83362 9263\n"
     ]
    }
   ],
   "source": [
    "train_dataset = AudioDatasetFromTxt(train_df, transform=spectrogram)\n",
    "test_dataset = AudioDatasetFromTxt(test_df, transform=spectrogram)\n",
    "\n",
    "subgroups = ['train', 'val', 'test']\n",
    "\n",
    "n_train = int(len(train_dataset) * 0.9)\n",
    "n_val = math.ceil(len(train_dataset) * 0.1)\n",
    "train_dataset, val_dataset = split(train_dataset, [n_train, n_val], \n",
    "                                   generator=torch.manual_seed(42))\n",
    "datasets_Audio = [train_dataset, val_dataset, test_dataset]\n",
    "audioFolder = {\n",
    "    x : datasets_Audio[i]\n",
    "    for i, x in enumerate(subgroups)\n",
    "}\n",
    "# Crear dataloaders\n",
    "dataloaders = { x : torch.utils.data.DataLoader(audioFolder[x], shuffle=True, \n",
    "                                                batch_size=batch_size, num_workers=4)\n",
    "               for x in subgroups}\n",
    "test_loader = DataLoader(audioFolder['test'], batch_size=batch_size, shuffle=False)\n",
    "dataset_size = {x : len(audioFolder[x])\n",
    "                for x in subgroups}\n",
    "print(dataset_size)\n",
    "print(n_train, n_val)"
   ]
  },
  {
   "cell_type": "code",
   "execution_count": 16,
   "id": "77fa8fd9",
   "metadata": {},
   "outputs": [],
   "source": [
    "def train_model(model, criterion, optimizer, scheduler, num_epochs=25):\n",
    "    df = pd.DataFrame(\n",
    "        np.empty([num_epochs, 5]), \n",
    "        index=np.arange(num_epochs),\n",
    "        columns=['loss_train', 'acc_train', 'loss_val', 'acc_val', 'lr']\n",
    "    )\n",
    "    since = time.time()\n",
    "\n",
    "    # Create a temporary directory to save training checkpoints\n",
    "    with TemporaryDirectory() as tempdir:\n",
    "        best_model_params_path = os.path.join(tempdir, 'best_model_params.pt')\n",
    "        torch.save(model.state_dict(), best_model_params_path)\n",
    "        best_acc = 0.0\n",
    "        rangeEpoch = trange(num_epochs)\n",
    "        for epoch in rangeEpoch:\n",
    "            print(f'Epoch {epoch}/{num_epochs - 1}')\n",
    "            print('-' * 10)\n",
    "            # Each epoch has a training and validation phase \n",
    "            for phase in ['train', 'val']:\n",
    "                if phase == 'train':\n",
    "                    model.train()\n",
    "                else:\n",
    "                    model.eval()\n",
    "                \n",
    "                running_loss = 0.0\n",
    "                running_correct = 0\n",
    "                # Iterate over data\n",
    "                for inputs, labels in dataloaders[phase]:\n",
    "                    inputs = inputs.to(device)\n",
    "                    labels = labels.to(device)\n",
    "\n",
    "                    # zero the parameter gradients\n",
    "                    optimizer.zero_grad()\n",
    "                    # forward \n",
    "                    # track history only if only in train\n",
    "                    with torch.set_grad_enabled(phase == 'train'):\n",
    "                        outputs = model(inputs)\n",
    "                        _, preds = torch.max(outputs, 1)\n",
    "                        loss = criterion(outputs, labels)\n",
    "                        # backward + optimizer only if training phase \n",
    "                        if phase == 'train':\n",
    "                            loss.backward()\n",
    "                            optimizer.step()\n",
    "                        \n",
    "                    #@ stadistics\n",
    "                    running_loss =+ loss.item() * inputs.size(0)\n",
    "                    running_correct += torch.sum(preds == labels.data)\n",
    "\n",
    "                if phase == 'train':\n",
    "                    scheduler.step()\n",
    "                    df.iloc[epoch, 4] = optimizer.param_groups[0]['lr']\n",
    "                    \n",
    "                epoch_loss = running_loss / dataset_size[phase]\n",
    "                epoch_acc = running_correct.double() / dataset_size[phase]\n",
    "                \n",
    "                if phase == 'train':\n",
    "                    df.iloc[epoch, 0], df.iloc[epoch, 1] = epoch_loss, epoch_acc.item()\n",
    "                else:\n",
    "                    df.iloc[epoch, 2], df.iloc[epoch, 3] = epoch_loss, epoch_acc.item()\n",
    "                \n",
    "                rangeEpoch.set_description(\"train_loss=%.5f\" % df.iloc[epoch, 0])\n",
    "                rangeEpoch.set_postfix(\n",
    "                            {'train_acc':df.iloc[epoch,1], 'test_acc':df.iloc[epoch, 3]}\n",
    "                )\n",
    "                \n",
    "                if phase == 'val' and epoch_acc > best_acc:\n",
    "                    torch.save(model.state_dict(), best_model_params_path)\n",
    "\n",
    "        time_elapsed = time.time() - since\n",
    "        print(f'Training complete in {time_elapsed // 60: .0f}m {time_elapsed % 60: .0f}s')\n",
    "        print(f'Best val Acc {best_acc:4f}')\n",
    "        model.load_state_dict(torch.load(best_model_params_path, weights_only=True))\n",
    "    return model, df"
   ]
  },
  {
   "cell_type": "code",
   "execution_count": 17,
   "id": "b92591f5",
   "metadata": {},
   "outputs": [],
   "source": [
    "model_ft = models.densenet121(weights=None)\n",
    "model_ft.features.conv0 = nn.Conv2d(1, 64, \n",
    "                                     kernel_size=7, \n",
    "                                     stride=2, \n",
    "                                     padding=3, \n",
    "                                     bias=False)\n",
    "num_ftrs = model_ft.classifier.in_features\n",
    "model_ft.classifier = nn.Linear(num_ftrs, 6)\n",
    "model_ft = model_ft.to(device)\n",
    "criterion = nn.CrossEntropyLoss()\n",
    "optimizer = optim.SGD(model_ft.parameters(), lr=0.001, momentum=0.9)\n",
    "exp_lr_scheduler = lr_scheduler.StepLR(optimizer, step_size=7, gamma=0.1)"
   ]
  },
  {
   "cell_type": "code",
   "execution_count": 18,
   "id": "176bb7f4",
   "metadata": {},
   "outputs": [
    {
     "name": "stderr",
     "output_type": "stream",
     "text": [
      "  0%|          | 0/50 [00:00<?, ?it/s]"
     ]
    },
    {
     "name": "stdout",
     "output_type": "stream",
     "text": [
      "Epoch 0/49\n",
      "----------\n"
     ]
    },
    {
     "name": "stderr",
     "output_type": "stream",
     "text": [
      "train_loss=0.00046:   2%|▏         | 1/50 [02:36<2:08:11, 156.97s/it, train_acc=0.457, test_acc=0.622]"
     ]
    },
    {
     "name": "stdout",
     "output_type": "stream",
     "text": [
      "Epoch 1/49\n",
      "----------\n"
     ]
    },
    {
     "name": "stderr",
     "output_type": "stream",
     "text": [
      "train_loss=0.00029:   4%|▍         | 2/50 [05:10<2:04:08, 155.17s/it, train_acc=0.693, test_acc=0.506]    "
     ]
    },
    {
     "name": "stdout",
     "output_type": "stream",
     "text": [
      "Epoch 2/49\n",
      "----------\n"
     ]
    },
    {
     "name": "stderr",
     "output_type": "stream",
     "text": [
      "train_loss=0.00026:   6%|▌         | 3/50 [07:44<2:01:05, 154.58s/it, train_acc=0.768, test_acc=0.181]    "
     ]
    },
    {
     "name": "stdout",
     "output_type": "stream",
     "text": [
      "Epoch 3/49\n",
      "----------\n"
     ]
    },
    {
     "name": "stderr",
     "output_type": "stream",
     "text": [
      "train_loss=0.00015:   8%|▊         | 4/50 [10:18<1:58:17, 154.30s/it, train_acc=0.818, test_acc=0.201]    "
     ]
    },
    {
     "name": "stdout",
     "output_type": "stream",
     "text": [
      "Epoch 4/49\n",
      "----------\n"
     ]
    },
    {
     "name": "stderr",
     "output_type": "stream",
     "text": [
      "train_loss=0.00013:  10%|█         | 5/50 [12:52<1:55:33, 154.07s/it, train_acc=0.845, test_acc=0.181]    "
     ]
    },
    {
     "name": "stdout",
     "output_type": "stream",
     "text": [
      "Epoch 5/49\n",
      "----------\n"
     ]
    },
    {
     "name": "stderr",
     "output_type": "stream",
     "text": [
      "train_loss=0.00030:  12%|█▏        | 6/50 [15:25<1:52:53, 153.94s/it, train_acc=0.86, test_acc=0.285]    "
     ]
    },
    {
     "name": "stdout",
     "output_type": "stream",
     "text": [
      "Epoch 6/49\n",
      "----------\n"
     ]
    },
    {
     "name": "stderr",
     "output_type": "stream",
     "text": [
      "train_loss=0.00026:  14%|█▍        | 7/50 [17:59<1:50:15, 153.84s/it, train_acc=0.875, test_acc=0.254]    "
     ]
    },
    {
     "name": "stdout",
     "output_type": "stream",
     "text": [
      "Epoch 7/49\n",
      "----------\n"
     ]
    },
    {
     "name": "stderr",
     "output_type": "stream",
     "text": [
      "train_loss=0.00012:  16%|█▌        | 8/50 [20:35<1:48:06, 154.45s/it, train_acc=0.897, test_acc=0.278]    "
     ]
    },
    {
     "name": "stdout",
     "output_type": "stream",
     "text": [
      "Epoch 8/49\n",
      "----------\n"
     ]
    },
    {
     "name": "stderr",
     "output_type": "stream",
     "text": [
      "train_loss=0.00020:  18%|█▊        | 9/50 [23:09<1:45:27, 154.34s/it, train_acc=0.904, test_acc=0.269]    "
     ]
    },
    {
     "name": "stdout",
     "output_type": "stream",
     "text": [
      "Epoch 9/49\n",
      "----------\n"
     ]
    },
    {
     "name": "stderr",
     "output_type": "stream",
     "text": [
      "train_loss=0.00008:  20%|██        | 10/50 [25:44<1:43:00, 154.51s/it, train_acc=0.907, test_acc=0.238]   "
     ]
    },
    {
     "name": "stdout",
     "output_type": "stream",
     "text": [
      "Epoch 10/49\n",
      "----------\n"
     ]
    },
    {
     "name": "stderr",
     "output_type": "stream",
     "text": [
      "train_loss=0.00010:  22%|██▏       | 11/50 [28:19<1:40:33, 154.70s/it, train_acc=0.91, test_acc=0.271]    "
     ]
    },
    {
     "name": "stdout",
     "output_type": "stream",
     "text": [
      "Epoch 11/49\n",
      "----------\n"
     ]
    },
    {
     "name": "stderr",
     "output_type": "stream",
     "text": [
      "train_loss=0.00029:  24%|██▍       | 12/50 [30:56<1:38:26, 155.44s/it, train_acc=0.911, test_acc=0.262]    "
     ]
    },
    {
     "name": "stdout",
     "output_type": "stream",
     "text": [
      "Epoch 12/49\n",
      "----------\n"
     ]
    },
    {
     "name": "stderr",
     "output_type": "stream",
     "text": [
      "train_loss=0.00006:  26%|██▌       | 13/50 [33:38<1:37:06, 157.47s/it, train_acc=0.914, test_acc=0.263]    "
     ]
    },
    {
     "name": "stdout",
     "output_type": "stream",
     "text": [
      "Epoch 13/49\n",
      "----------\n"
     ]
    },
    {
     "name": "stderr",
     "output_type": "stream",
     "text": [
      "train_loss=0.00004:  28%|██▊       | 14/50 [36:20<1:35:20, 158.89s/it, train_acc=0.915, test_acc=0.257]    "
     ]
    },
    {
     "name": "stdout",
     "output_type": "stream",
     "text": [
      "Epoch 14/49\n",
      "----------\n"
     ]
    },
    {
     "name": "stderr",
     "output_type": "stream",
     "text": [
      "train_loss=0.00013:  30%|███       | 15/50 [39:02<1:33:14, 159.84s/it, train_acc=0.919, test_acc=0.249]    "
     ]
    },
    {
     "name": "stdout",
     "output_type": "stream",
     "text": [
      "Epoch 15/49\n",
      "----------\n"
     ]
    },
    {
     "name": "stderr",
     "output_type": "stream",
     "text": [
      "train_loss=0.00005:  32%|███▏      | 16/50 [41:44<1:30:55, 160.46s/it, train_acc=0.92, test_acc=0.259]    "
     ]
    },
    {
     "name": "stdout",
     "output_type": "stream",
     "text": [
      "Epoch 16/49\n",
      "----------\n"
     ]
    },
    {
     "name": "stderr",
     "output_type": "stream",
     "text": [
      "train_loss=0.00012:  34%|███▍      | 17/50 [44:27<1:28:32, 160.99s/it, train_acc=0.921, test_acc=0.249]    "
     ]
    },
    {
     "name": "stdout",
     "output_type": "stream",
     "text": [
      "Epoch 17/49\n",
      "----------\n"
     ]
    },
    {
     "name": "stderr",
     "output_type": "stream",
     "text": [
      "train_loss=0.00012:  36%|███▌      | 18/50 [47:09<1:26:03, 161.35s/it, train_acc=0.921, test_acc=0.257]    "
     ]
    },
    {
     "name": "stdout",
     "output_type": "stream",
     "text": [
      "Epoch 18/49\n",
      "----------\n"
     ]
    },
    {
     "name": "stderr",
     "output_type": "stream",
     "text": [
      "train_loss=0.00012:  38%|███▊      | 19/50 [49:48<1:22:58, 160.60s/it, train_acc=0.921, test_acc=0.253]    "
     ]
    },
    {
     "name": "stdout",
     "output_type": "stream",
     "text": [
      "Epoch 19/49\n",
      "----------\n"
     ]
    },
    {
     "name": "stderr",
     "output_type": "stream",
     "text": [
      "train_loss=0.00008:  40%|████      | 20/50 [52:15<1:18:18, 156.60s/it, train_acc=0.921, test_acc=0.257]    "
     ]
    },
    {
     "name": "stdout",
     "output_type": "stream",
     "text": [
      "Epoch 20/49\n",
      "----------\n"
     ]
    },
    {
     "name": "stderr",
     "output_type": "stream",
     "text": [
      "train_loss=0.00010:  42%|████▏     | 21/50 [54:43<1:14:28, 154.08s/it, train_acc=0.921, test_acc=0.253]    "
     ]
    },
    {
     "name": "stdout",
     "output_type": "stream",
     "text": [
      "Epoch 21/49\n",
      "----------\n"
     ]
    },
    {
     "name": "stderr",
     "output_type": "stream",
     "text": [
      "train_loss=0.00017:  44%|████▍     | 22/50 [57:13<1:11:19, 152.85s/it, train_acc=0.922, test_acc=0.271]    "
     ]
    },
    {
     "name": "stdout",
     "output_type": "stream",
     "text": [
      "Epoch 22/49\n",
      "----------\n"
     ]
    },
    {
     "name": "stderr",
     "output_type": "stream",
     "text": [
      "train_loss=0.00008:  46%|████▌     | 23/50 [59:43<1:08:26, 152.10s/it, train_acc=0.922, test_acc=0.262]    "
     ]
    },
    {
     "name": "stdout",
     "output_type": "stream",
     "text": [
      "Epoch 23/49\n",
      "----------\n"
     ]
    },
    {
     "name": "stderr",
     "output_type": "stream",
     "text": [
      "train_loss=0.00007:  48%|████▊     | 24/50 [1:02:15<1:05:47, 151.83s/it, train_acc=0.921, test_acc=0.262]    "
     ]
    },
    {
     "name": "stdout",
     "output_type": "stream",
     "text": [
      "Epoch 24/49\n",
      "----------\n"
     ]
    },
    {
     "name": "stderr",
     "output_type": "stream",
     "text": [
      "train_loss=0.00009:  50%|█████     | 25/50 [1:04:51<1:03:48, 153.16s/it, train_acc=0.923, test_acc=0.259]    "
     ]
    },
    {
     "name": "stdout",
     "output_type": "stream",
     "text": [
      "Epoch 25/49\n",
      "----------\n"
     ]
    },
    {
     "name": "stderr",
     "output_type": "stream",
     "text": [
      "train_loss=0.00017:  52%|█████▏    | 26/50 [1:07:27<1:01:36, 154.00s/it, train_acc=0.922, test_acc=0.256]    "
     ]
    },
    {
     "name": "stdout",
     "output_type": "stream",
     "text": [
      "Epoch 26/49\n",
      "----------\n"
     ]
    },
    {
     "name": "stderr",
     "output_type": "stream",
     "text": [
      "train_loss=0.00009:  54%|█████▍    | 27/50 [1:10:00<58:58, 153.83s/it, train_acc=0.922, test_acc=0.253]      "
     ]
    },
    {
     "name": "stdout",
     "output_type": "stream",
     "text": [
      "Epoch 27/49\n",
      "----------\n"
     ]
    },
    {
     "name": "stderr",
     "output_type": "stream",
     "text": [
      "train_loss=0.00003:  56%|█████▌    | 28/50 [1:12:31<56:06, 153.03s/it, train_acc=0.922, test_acc=0.246]    "
     ]
    },
    {
     "name": "stdout",
     "output_type": "stream",
     "text": [
      "Epoch 28/49\n",
      "----------\n"
     ]
    },
    {
     "name": "stderr",
     "output_type": "stream",
     "text": [
      "train_loss=0.00022:  58%|█████▊    | 29/50 [1:15:01<53:14, 152.11s/it, train_acc=0.921, test_acc=0.268]    "
     ]
    },
    {
     "name": "stdout",
     "output_type": "stream",
     "text": [
      "Epoch 29/49\n",
      "----------\n"
     ]
    },
    {
     "name": "stderr",
     "output_type": "stream",
     "text": [
      "train_loss=0.00010:  60%|██████    | 30/50 [1:17:33<50:37, 151.86s/it, train_acc=0.922, test_acc=0.27]     "
     ]
    },
    {
     "name": "stdout",
     "output_type": "stream",
     "text": [
      "Epoch 30/49\n",
      "----------\n"
     ]
    },
    {
     "name": "stderr",
     "output_type": "stream",
     "text": [
      "train_loss=0.00007:  62%|██████▏   | 31/50 [1:20:07<48:18, 152.56s/it, train_acc=0.921, test_acc=0.249]    "
     ]
    },
    {
     "name": "stdout",
     "output_type": "stream",
     "text": [
      "Epoch 31/49\n",
      "----------\n"
     ]
    },
    {
     "name": "stderr",
     "output_type": "stream",
     "text": [
      "train_loss=0.00015:  64%|██████▍   | 32/50 [1:22:43<46:03, 153.51s/it, train_acc=0.923, test_acc=0.243]    "
     ]
    },
    {
     "name": "stdout",
     "output_type": "stream",
     "text": [
      "Epoch 32/49\n",
      "----------\n"
     ]
    },
    {
     "name": "stderr",
     "output_type": "stream",
     "text": [
      "train_loss=0.00011:  66%|██████▌   | 33/50 [1:25:17<43:31, 153.63s/it, train_acc=0.923, test_acc=0.241]    "
     ]
    },
    {
     "name": "stdout",
     "output_type": "stream",
     "text": [
      "Epoch 33/49\n",
      "----------\n"
     ]
    },
    {
     "name": "stderr",
     "output_type": "stream",
     "text": [
      "train_loss=0.00016:  68%|██████▊   | 34/50 [1:27:52<41:07, 154.25s/it, train_acc=0.922, test_acc=0.252]    "
     ]
    },
    {
     "name": "stdout",
     "output_type": "stream",
     "text": [
      "Epoch 34/49\n",
      "----------\n"
     ]
    },
    {
     "name": "stderr",
     "output_type": "stream",
     "text": [
      "train_loss=0.00010:  70%|███████   | 35/50 [1:30:29<38:43, 154.88s/it, train_acc=0.921, test_acc=0.256]    "
     ]
    },
    {
     "name": "stdout",
     "output_type": "stream",
     "text": [
      "Epoch 35/49\n",
      "----------\n"
     ]
    },
    {
     "name": "stderr",
     "output_type": "stream",
     "text": [
      "train_loss=0.00016:  72%|███████▏  | 36/50 [1:33:02<36:04, 154.58s/it, train_acc=0.922, test_acc=0.241]    "
     ]
    },
    {
     "name": "stdout",
     "output_type": "stream",
     "text": [
      "Epoch 36/49\n",
      "----------\n"
     ]
    },
    {
     "name": "stderr",
     "output_type": "stream",
     "text": [
      "train_loss=0.00008:  74%|███████▍  | 37/50 [1:35:45<33:59, 156.90s/it, train_acc=0.921, test_acc=0.239]    "
     ]
    },
    {
     "name": "stdout",
     "output_type": "stream",
     "text": [
      "Epoch 37/49\n",
      "----------\n"
     ]
    },
    {
     "name": "stderr",
     "output_type": "stream",
     "text": [
      "train_loss=0.00007:  76%|███████▌  | 38/50 [1:38:27<31:41, 158.44s/it, train_acc=0.922, test_acc=0.261]    "
     ]
    },
    {
     "name": "stdout",
     "output_type": "stream",
     "text": [
      "Epoch 38/49\n",
      "----------\n"
     ]
    },
    {
     "name": "stderr",
     "output_type": "stream",
     "text": [
      "train_loss=0.00008:  78%|███████▊  | 39/50 [1:41:09<29:13, 159.45s/it, train_acc=0.921, test_acc=0.255]    "
     ]
    },
    {
     "name": "stdout",
     "output_type": "stream",
     "text": [
      "Epoch 39/49\n",
      "----------\n"
     ]
    },
    {
     "name": "stderr",
     "output_type": "stream",
     "text": [
      "train_loss=0.00015:  80%|████████  | 40/50 [1:43:51<26:42, 160.30s/it, train_acc=0.922, test_acc=0.26]     "
     ]
    },
    {
     "name": "stdout",
     "output_type": "stream",
     "text": [
      "Epoch 40/49\n",
      "----------\n"
     ]
    },
    {
     "name": "stderr",
     "output_type": "stream",
     "text": [
      "train_loss=0.00015:  82%|████████▏ | 41/50 [1:46:33<24:07, 160.84s/it, train_acc=0.922, test_acc=0.221]    "
     ]
    },
    {
     "name": "stdout",
     "output_type": "stream",
     "text": [
      "Epoch 41/49\n",
      "----------\n"
     ]
    },
    {
     "name": "stderr",
     "output_type": "stream",
     "text": [
      "train_loss=0.00003:  84%|████████▍ | 42/50 [1:49:15<21:30, 161.25s/it, train_acc=0.921, test_acc=0.262]    "
     ]
    },
    {
     "name": "stdout",
     "output_type": "stream",
     "text": [
      "Epoch 42/49\n",
      "----------\n"
     ]
    },
    {
     "name": "stderr",
     "output_type": "stream",
     "text": [
      "train_loss=0.00019:  86%|████████▌ | 43/50 [1:51:57<18:50, 161.49s/it, train_acc=0.922, test_acc=0.237]    "
     ]
    },
    {
     "name": "stdout",
     "output_type": "stream",
     "text": [
      "Epoch 43/49\n",
      "----------\n"
     ]
    },
    {
     "name": "stderr",
     "output_type": "stream",
     "text": [
      "train_loss=0.00013:  88%|████████▊ | 44/50 [1:54:40<16:10, 161.74s/it, train_acc=0.921, test_acc=0.265]    "
     ]
    },
    {
     "name": "stdout",
     "output_type": "stream",
     "text": [
      "Epoch 44/49\n",
      "----------\n"
     ]
    },
    {
     "name": "stderr",
     "output_type": "stream",
     "text": [
      "train_loss=0.00005:  90%|█████████ | 45/50 [1:57:22<13:29, 161.85s/it, train_acc=0.922, test_acc=0.281]    "
     ]
    },
    {
     "name": "stdout",
     "output_type": "stream",
     "text": [
      "Epoch 45/49\n",
      "----------\n"
     ]
    },
    {
     "name": "stderr",
     "output_type": "stream",
     "text": [
      "train_loss=0.00010:  92%|█████████▏| 46/50 [2:00:04<10:47, 161.92s/it, train_acc=0.921, test_acc=0.254]    "
     ]
    },
    {
     "name": "stdout",
     "output_type": "stream",
     "text": [
      "Epoch 46/49\n",
      "----------\n"
     ]
    },
    {
     "name": "stderr",
     "output_type": "stream",
     "text": [
      "train_loss=0.00017:  94%|█████████▍| 47/50 [2:02:46<08:05, 161.99s/it, train_acc=0.922, test_acc=0.253]    "
     ]
    },
    {
     "name": "stdout",
     "output_type": "stream",
     "text": [
      "Epoch 47/49\n",
      "----------\n"
     ]
    },
    {
     "name": "stderr",
     "output_type": "stream",
     "text": [
      "train_loss=0.00017:  96%|█████████▌| 48/50 [2:05:28<05:24, 162.02s/it, train_acc=0.921, test_acc=0.256]    "
     ]
    },
    {
     "name": "stdout",
     "output_type": "stream",
     "text": [
      "Epoch 48/49\n",
      "----------\n"
     ]
    },
    {
     "name": "stderr",
     "output_type": "stream",
     "text": [
      "train_loss=0.00010:  98%|█████████▊| 49/50 [2:08:10<02:42, 162.10s/it, train_acc=0.922, test_acc=0.251]    "
     ]
    },
    {
     "name": "stdout",
     "output_type": "stream",
     "text": [
      "Epoch 49/49\n",
      "----------\n"
     ]
    },
    {
     "name": "stderr",
     "output_type": "stream",
     "text": [
      "train_loss=0.00005: 100%|██████████| 50/50 [2:10:52<00:00, 157.06s/it, train_acc=0.922, test_acc=0.258]    \n"
     ]
    },
    {
     "name": "stdout",
     "output_type": "stream",
     "text": [
      "Training complete in  130m  53s\n",
      "Best val Acc 0.000000\n"
     ]
    }
   ],
   "source": [
    "modelo = 'densenet'\n",
    "version = '21'\n",
    "PATH_RESNET = f'./resultados/{modelo}{version}AudioBalanceado.pt' if MIN_SAMPLES else f'./resultados/{modelo}{version}AudioNoBalanceado.pt'\n",
    "PATH_CSV_RESULTADOS = f'./resultados/{modelo}{version}ResultadoBalanceado.csv' if MIN_SAMPLES else f'./resultados/{modelo}{version}ResultadoNoBalanceado.csv'\n",
    "if not os.path.exists(PATH_RESNET):\n",
    "    model_ft, df = train_model(model_ft, criterion, optimizer, exp_lr_scheduler, num_epochs=n_epochs)\n",
    "    df.to_csv(PATH_CSV_RESULTADOS,index=False)\n",
    "    torch.save(model_ft, PATH_RESNET)"
   ]
  }
 ],
 "metadata": {
  "kernelspec": {
   "display_name": "mosquitosClasificacion (3.12.3)",
   "language": "python",
   "name": "python3"
  },
  "language_info": {
   "codemirror_mode": {
    "name": "ipython",
    "version": 3
   },
   "file_extension": ".py",
   "mimetype": "text/x-python",
   "name": "python",
   "nbconvert_exporter": "python",
   "pygments_lexer": "ipython3",
   "version": "3.12.3"
  }
 },
 "nbformat": 4,
 "nbformat_minor": 5
}
