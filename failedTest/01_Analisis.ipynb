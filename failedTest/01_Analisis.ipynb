{
 "cells": [
  {
   "cell_type": "markdown",
   "id": "57405f42",
   "metadata": {},
   "source": [
    "## **Formato del dataset**\n",
    "```bash\n",
    "wingbeats_dataset/\n",
    "├── species_1/\n",
    "│   ├── audio_1.wav\n",
    "│   ├── audio_2.wav\n",
    "│   └── ...\n",
    "├── species_2/\n",
    "│   ├── audio_1.wav\n",
    "│   └── ...\n",
    "...\n",
    "|\n",
    "├── species_6/\n",
    "│   ├── audio_1.wav\n",
    "│   └── ...\n",
    "```\n"
   ]
  },
  {
   "cell_type": "markdown",
   "id": "8be771a7",
   "metadata": {},
   "source": [
    "### **Formato de subcarpetas por especie**\n",
    "```bash\n",
    "D_x_y_z_a_b_c\n",
    "│\n",
    "├── D       = Identificador de dispositivo/grabadora (D = Device)\n",
    "├── x       = Año \n",
    "├── y       = Mes \n",
    "├── z       = Día \n",
    "├── a       = Hora \n",
    "├── b       = Minutos \n",
    "└── c       = Segundos\n",
    "```"
   ]
  },
  {
   "cell_type": "markdown",
   "id": "4f3f3468",
   "metadata": {},
   "source": [
    "## **Celda con variables globales e importaciones**"
   ]
  },
  {
   "cell_type": "code",
   "execution_count": 2,
   "id": "c51ead04",
   "metadata": {},
   "outputs": [],
   "source": [
    "from pathlib import Path\n",
    "import librosa  \n",
    "\n",
    "# Ae_Aegypti, Ae_Albopictus, An_Arabiensis, An_Gambiae, Cu_Pipiens, Cu_Quinquefasciatus\n",
    "n_classes = 6\n",
    "classes = {k:i for i,k in enumerate(['An. gambiae', 'C. pipiens', 'C. quinquefasciatus', 'Ae. albopictus', 'An. arabiensis', 'Ae. aegypti'])}\n",
    "MIN_ELEMENTS = False\n",
    "PATH = 'Wingbeats/'\n",
    "SAMPLE_RATE = 8_000"
   ]
  },
  {
   "cell_type": "code",
   "execution_count": 3,
   "id": "52707be2",
   "metadata": {},
   "outputs": [
    {
     "data": {
      "text/plain": [
       "{'An. gambiae': 0,\n",
       " 'C. pipiens': 1,\n",
       " 'C. quinquefasciatus': 2,\n",
       " 'Ae. albopictus': 3,\n",
       " 'An. arabiensis': 4,\n",
       " 'Ae. aegypti': 5}"
      ]
     },
     "execution_count": 3,
     "metadata": {},
     "output_type": "execute_result"
    }
   ],
   "source": [
    "classes"
   ]
  },
  {
   "cell_type": "markdown",
   "id": "d139d26c",
   "metadata": {},
   "source": [
    "## **Extracion de direccion de todos los audios**"
   ]
  },
  {
   "cell_type": "code",
   "execution_count": 4,
   "id": "6f46b803",
   "metadata": {},
   "outputs": [
    {
     "name": "stdout",
     "output_type": "stream",
     "text": [
      "Folder completado\n",
      "Folder completado\n",
      "Folder completado\n",
      "Folder completado\n",
      "Folder completado\n",
      "Folder completado\n"
     ]
    }
   ],
   "source": [
    "\n",
    "def explore_nested_folders(root_path, min_elementos = True):\n",
    "    root = Path(root_path)\n",
    "    main_folders = [f for f in root.iterdir() if f.is_dir()]\n",
    "    estructura = dict()\n",
    "\n",
    "    for main_folder in main_folders:\n",
    "        estructura[main_folder.name] = []\n",
    "        sub_folders = [f for f in main_folder.iterdir() if f.is_dir()]    \n",
    "    \n",
    "        for sub_folder in sub_folders:\n",
    "            files = [f for f in sub_folder.iterdir() if f.is_file()]\n",
    "            \n",
    "            for file in files:\n",
    "                direccion_audio = PATH + str(file.relative_to(root))\n",
    "                data,sr = librosa.load(direccion_audio, sr=SAMPLE_RATE)\n",
    "                estructura[main_folder.name].append(\n",
    "                    dict(\n",
    "                        direccionName=direccion_audio,\n",
    "                        sr=sr,\n",
    "                        duration=len(data)/sr\n",
    "                    )\n",
    "                )\n",
    "        print('Folder completado')\n",
    "    \n",
    "    n_samples_min = min([len(files) for files in estructura.values()])\n",
    "    if min_elementos:\n",
    "        estructura = {labels:data[:n_samples_min] for labels, data in estructura.items()}\n",
    "    return estructura, n_samples_min\n",
    "\n",
    "#folder_structure, min_samples = explore_nested_folders(PATH, min_elementos=MIN_ELEMENTS)\n",
    "folder_structure, min_samples = explore_nested_folders(PATH, min_elementos=MIN_ELEMENTS)"
   ]
  },
  {
   "cell_type": "markdown",
   "id": "85655556",
   "metadata": {},
   "source": [
    "## **Datos basicos del dataset extraido**"
   ]
  },
  {
   "cell_type": "code",
   "execution_count": 5,
   "id": "901922a6",
   "metadata": {},
   "outputs": [
    {
     "name": "stdout",
     "output_type": "stream",
     "text": [
      "Total audios =  279466\n",
      "Cantidad de audios por clase\n",
      " [49471, 30415, 74599, 20131, 19297, 85553]\n",
      "Ejemplo de direccion de archivo =  Wingbeats/An. gambiae/D_17_01_17_11_28_16/F170117_112822_068_G_050.wav\n"
     ]
    }
   ],
   "source": [
    "print('Total audios = ',sum([len(total) for total in folder_structure.values()]))\n",
    "print('Cantidad de audios por clase\\n',[len(total) for total in folder_structure.values()])\n",
    "print('Ejemplo de direccion de archivo = ', folder_structure[list(folder_structure.keys())[0]][0]['direccionName'])"
   ]
  },
  {
   "cell_type": "markdown",
   "id": "e78932c3",
   "metadata": {},
   "source": [
    "## **Validacon de propiedades de los audios**"
   ]
  },
  {
   "cell_type": "code",
   "execution_count": 6,
   "id": "60dea69e",
   "metadata": {},
   "outputs": [
    {
     "name": "stdout",
     "output_type": "stream",
     "text": [
      "Misma tasa de frecuencia para todos los audios \n",
      "Ejemplo de sr de archivo =  8000\n",
      "Misma duracion para todos los audios \n",
      "Duracion de archivo =  0.625\n"
     ]
    }
   ],
   "source": [
    "def allEqual(value):\n",
    "    funcSR = lambda j : [folder_structure[list(folder_structure.keys())[j]][i][value] for i in range(min_samples)]\n",
    "    sameSR = [True for i in range(n_classes) if len(set(funcSR(i))) == 1]\n",
    "    return all(sameSR)\n",
    "\n",
    "if allEqual('sr'):\n",
    "    print('Misma tasa de frecuencia para todos los audios ')\n",
    "    print('Ejemplo de sr de archivo = ', folder_structure[list(folder_structure.keys())[0]][0]['sr'])\n",
    "else:\n",
    "    print('Algun audio con diferente tasa de frecuencia')\n",
    "\n",
    "if allEqual('duration'):\n",
    "    print('Misma duracion para todos los audios ')\n",
    "    print('Duracion de archivo = ', folder_structure[list(folder_structure.keys())[0]][0]['duration'])\n",
    "else:\n",
    "    print('Algun audio con diferente duracion')"
   ]
  },
  {
   "cell_type": "markdown",
   "id": "daa2acae",
   "metadata": {},
   "source": [
    "## **Crear anotaciones de los audios junto con su respectiva etiqueta**\n",
    "```bash\n",
    "'An. gambiae': 0\n",
    "'C. pipiens': 1\n",
    "'C. quinquefasciatus': 2\n",
    "'Ae. albopictus': 3\n",
    "'An. arabiensis': 4\n",
    "'Ae. aegypti': 5\n",
    "```"
   ]
  },
  {
   "cell_type": "code",
   "execution_count": 7,
   "id": "c26ed9b1",
   "metadata": {},
   "outputs": [],
   "source": [
    "def crearAnotaciones():\n",
    "    clases = list(folder_structure.keys())\n",
    "    annotations_path = PATH + 'min_annotations.txt' if MIN_ELEMENTS else PATH + 'annotations.txt'\n",
    "    files_name = [dataFile['direccionName'] + ',' + str(classes[class_mos]) + '\\n' \n",
    "                  for class_mos in clases\n",
    "                  for dataFile in folder_structure[class_mos]]\n",
    "    with open(annotations_path, 'w', encoding='utf-8') as f:\n",
    "        f.write(\"file_path,label\\n\")\n",
    "        f.writelines(files_name)\n",
    "crearAnotaciones()"
   ]
  },
  {
   "cell_type": "code",
   "execution_count": null,
   "id": "96c65399",
   "metadata": {},
   "outputs": [],
   "source": []
  }
 ],
 "metadata": {
  "kernelspec": {
   "display_name": "mosquitosClasificacion (3.12.3)",
   "language": "python",
   "name": "python3"
  },
  "language_info": {
   "codemirror_mode": {
    "name": "ipython",
    "version": 3
   },
   "file_extension": ".py",
   "mimetype": "text/x-python",
   "name": "python",
   "nbconvert_exporter": "python",
   "pygments_lexer": "ipython3",
   "version": "3.12.3"
  }
 },
 "nbformat": 4,
 "nbformat_minor": 5
}
