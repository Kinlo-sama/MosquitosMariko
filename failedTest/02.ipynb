{
 "cells": [
  {
   "cell_type": "code",
   "execution_count": null,
   "id": "1df20c0f",
   "metadata": {},
   "outputs": [],
   "source": [
    "import pandas as pd\n",
    "from sklearn.model_selection import train_test_split\n",
    "import librosa \n",
    "import numpy as np\n",
    "import torch; from torch.utils.data import DataLoader, Dataset\n",
    "import torch.nn as nn\n",
    "import torch.optim.lr_scheduler as lr_scheduler\n",
    "import math\n",
    "from torch.utils.data.dataset import random_split as split \n",
    "import torchaudio.transforms as T\n",
    "import matplotlib.pyplot as plt\n",
    "from tqdm import trange\n",
    "MIN_SAMPLES = True\n",
    "PATH_ANNOTATIONS = 'Wingbeats/min_annotations.txt' if MIN_SAMPLES else 'Wingbeats/annotations.txt'\n",
    "n_classes = 6\n",
    "lr = 1e-4\n",
    "n_epochs = 50\n",
    "batch_size = 32"
   ]
  },
  {
   "cell_type": "code",
   "execution_count": 56,
   "id": "58856578",
   "metadata": {},
   "outputs": [],
   "source": [
    "def plot_waveform(waveform, sr, title=\"Waveform\", ax=None):\n",
    "    waveform = waveform.numpy()\n",
    "\n",
    "    num_channels, num_frames = waveform.shape\n",
    "    time_axis = torch.arange(0, num_frames) / sr\n",
    "\n",
    "    if ax is None:\n",
    "        _, ax = plt.subplots(num_channels, 1)\n",
    "    ax.plot(time_axis, waveform[0], linewidth=1)\n",
    "    ax.grid(True)\n",
    "    ax.set_xlim([0, time_axis[-1]])\n",
    "    ax.set_title(title)\n",
    "\n",
    "\n",
    "def plot_spectrogram(specgram, title=None, ylabel=\"freq_bin\", ax=None):\n",
    "    if ax is None:\n",
    "        _, ax = plt.subplots(1, 1)\n",
    "    if title is not None:\n",
    "        ax.set_title(title)\n",
    "    ax.set_ylabel(ylabel)\n",
    "    ax.imshow(librosa.power_to_db(specgram), origin=\"lower\", aspect=\"auto\", interpolation=\"nearest\")\n",
    "\n",
    "\n",
    "def plot_fbank(fbank, title=None):\n",
    "    fig, axs = plt.subplots(1, 1)\n",
    "    axs.set_title(title or \"Filter bank\")\n",
    "    axs.imshow(fbank, aspect=\"auto\")\n",
    "    axs.set_ylabel(\"frequency bin\")\n",
    "    axs.set_xlabel(\"mel bin\")"
   ]
  },
  {
   "cell_type": "code",
   "execution_count": 57,
   "id": "97ba8f02",
   "metadata": {},
   "outputs": [],
   "source": [
    "class AudioToSpectrogramTransform:\n",
    "    def __init__(self, sample_rate=22050, n_mels=128, n_fft=1024, hop_length=512, \n",
    "                 target_height=128, target_width=64): \n",
    "        self.sample_rate = sample_rate\n",
    "        self.n_mels = n_mels\n",
    "        self.n_fft = n_fft\n",
    "        self.hop_length = hop_length\n",
    "        self.target_height = target_height\n",
    "        self.target_width = target_width\n",
    "        \n",
    "        self.mel_spectrogram = T.Spectrogram(n_fft=n_fft)\n",
    "        self.amplitude_to_db = T.AmplitudeToDB()\n",
    "    \n",
    "    def __call__(self, waveform):\n",
    "        mel_spec = self.mel_spectrogram(waveform)\n",
    "        mel_spec_db = self.amplitude_to_db(mel_spec)\n",
    "        return mel_spec_db#self._resize_rectangular(mel_spec_db)\n",
    "    \n",
    "    def _resize_rectangular(self, spec):\n",
    "        C, H, W = spec.shape\n",
    "        \n",
    "        # Interpolación a tamaño rectangular\n",
    "        spec_resized = nn.functional.interpolate(\n",
    "            spec.unsqueeze(0),\n",
    "            size=(self.target_height, self.target_width),\n",
    "            mode='bilinear',\n",
    "            align_corners=False\n",
    "        ).squeeze(0)\n",
    "        \n",
    "        spec_resized = (spec_resized - spec_resized.min()) / (spec_resized.max() - spec_resized.min() + 1e-8)\n",
    "        spec_resized = spec_resized.repeat(3, 1, 1)\n",
    "        \n",
    "        return spec_resized  # [3, 128, 64]"
   ]
  },
  {
   "cell_type": "code",
   "execution_count": null,
   "id": "fe5c8d02",
   "metadata": {},
   "outputs": [],
   "source": [
    "class AudioDatasetFromTxt(Dataset):\n",
    "    def __init__(self, dataframe, transform=None):\n",
    "        self.dataframe = dataframe\n",
    "        self.transform = transform\n",
    "    \n",
    "    def __len__(self):\n",
    "        return len(self.dataframe)\n",
    "    \n",
    "    def __getitem__(self, index):\n",
    "        audio_path = self.dataframe.iloc[index]['file_path']\n",
    "        label = self.dataframe.iloc[index]['label']\n",
    "        \n",
    "        waveform, _ = librosa.load(audio_path)\n",
    "        \n",
    "        waveform = torch.from_numpy(waveform).float().unsqueeze(0)\n",
    "        \n",
    "        if self.transform:\n",
    "            spectrogram = self.transform(waveform)\n",
    "            return spectrogram, label\n",
    "        else:\n",
    "            return waveform, label"
   ]
  },
  {
   "cell_type": "code",
   "execution_count": 59,
   "id": "77b9ed26",
   "metadata": {},
   "outputs": [],
   "source": [
    "def dividirDatos(archivoAnnotaciones, test_size=0.2, random_state=42):\n",
    "    df = pd.read_csv(archivoAnnotaciones)\n",
    "    train_df, test_df = train_test_split(\n",
    "        df, \n",
    "        test_size=test_size,\n",
    "        random_state=random_state,\n",
    "        stratify=df['label']\n",
    "    )\n",
    "    print('Total = ', len(df))\n",
    "    print('Total train = ', len(train_df))\n",
    "    print('Total test = ', len(test_df))\n",
    "    return train_df, test_df"
   ]
  },
  {
   "cell_type": "code",
   "execution_count": 60,
   "id": "69ee19e6",
   "metadata": {},
   "outputs": [
    {
     "name": "stdout",
     "output_type": "stream",
     "text": [
      "Total =  115782\n",
      "Total train =  92625\n",
      "Total test =  23157\n"
     ]
    }
   ],
   "source": [
    "train_df, test_df = dividirDatos(PATH_ANNOTATIONS)\n",
    "# Definir transformaciones\n",
    "train_transform = AudioToSpectrogramTransform(\n",
    "    sample_rate=22050,\n",
    "    n_mels=128,\n",
    "    n_fft=1024,\n",
    "    hop_length=512,\n",
    "    target_height=128,\n",
    "    target_width=128\n",
    ")\n",
    "\n",
    "# Para test, puedes usar la misma transformación pero sin data augmentation\n",
    "test_transform = AudioToSpectrogramTransform(\n",
    "    sample_rate=22050,\n",
    "    n_mels=128,\n",
    "    n_fft=1024,\n",
    "    hop_length=512,\n",
    "    target_height=128,\n",
    "    target_width=128\n",
    ")\n",
    "\n",
    "# Crear datasets\n",
    "train_dataset = AudioDatasetFromTxt(\n",
    "    train_df, \n",
    "    sr=22050, \n",
    "    transform=train_transform\n",
    ")\n",
    "\n",
    "test_dataset = AudioDatasetFromTxt(\n",
    "    test_df, \n",
    "    sr=22050, \n",
    "    transform=test_transform\n",
    ")"
   ]
  },
  {
   "cell_type": "code",
   "execution_count": 61,
   "id": "713cebf4",
   "metadata": {},
   "outputs": [
    {
     "name": "stdout",
     "output_type": "stream",
     "text": [
      "83362 9263\n"
     ]
    }
   ],
   "source": [
    "n_train = int(len(train_dataset) * 0.9)\n",
    "n_val = math.ceil(len(train_dataset) * 0.1)\n",
    "train_dataset, val_dataset = split(train_dataset, [n_train, n_val], \n",
    "                                   generator=torch.manual_seed(42))\n",
    "# Crear dataloaders\n",
    "train_loader = DataLoader(train_dataset, batch_size, shuffle=True)\n",
    "test_loader = DataLoader(test_dataset, batch_size=batch_size, shuffle=False)\n",
    "valDataloader = DataLoader(val_dataset, batch_size=batch_size, shuffle=False)\n",
    "print(n_train, n_val)"
   ]
  },
  {
   "cell_type": "code",
   "execution_count": 62,
   "id": "554b43cc",
   "metadata": {},
   "outputs": [
    {
     "name": "stdout",
     "output_type": "stream",
     "text": [
      "torch.Size([1, 513, 22])\n",
      "tensor([3, 4, 4, 4, 2, 4, 0, 1, 1, 0, 3, 4, 4, 1, 2, 4, 3, 1, 0, 5, 2, 1, 5, 4,\n",
      "        3, 4, 2, 0, 1, 2, 3, 5])\n",
      "(513, 22, 1)\n"
     ]
    },
    {
     "data": {
      "image/png": "[encoded data removed]",
      "text/plain": [
       "<Figure size 640x480 with 2 Axes>"
      ]
     },
     "metadata": {},
     "output_type": "display_data"
    }
   ],
   "source": [
    "for data, label in train_loader:\n",
    "    print(data[3].shape)\n",
    "    print(label)\n",
    "    spectrogram_np = data.detach().cpu().numpy()[0]\n",
    "    spectrogram_np = np.transpose(spectrogram_np, (1,2,0))\n",
    "    if spectrogram_np.max() <= 1.0:\n",
    "        spectrogram_np = (spectrogram_np * 255).astype(np.uint8)\n",
    "    print(spectrogram_np.shape)\n",
    "    fig, axs = plt.subplots(2, 1)\n",
    "    plot_spectrogram(spectrogram_np, title=\"spectrogram\", ax=axs[1])\n",
    "    fig.tight_layout()\n",
    "    break"
   ]
  },
  {
   "cell_type": "code",
   "execution_count": 63,
   "id": "0db8e104",
   "metadata": {},
   "outputs": [],
   "source": [
    "class AudioNet(nn.Module):\n",
    "    def __init__(self):\n",
    "        super().__init__()\n",
    "        self.model = nn.Sequential(\n",
    "            nn.Conv1d(1, 32, kernel_size=3, stride=2),\n",
    "            nn.LeakyReLU(0.01),\n",
    "            nn.Conv1d(32, 64, kernel_size=3, stride=2),\n",
    "            nn.LeakyReLU(0.01),\n",
    "            nn.AdaptiveAvgPool1d(1)\n",
    "        )\n",
    "        self.fc = nn.Linear(64, n_classes)\n",
    "    def forward(self, x):\n",
    "        x = self.model(x)\n",
    "        x = x.squeeze(-1)\n",
    "        return self.fc(x)\n",
    "\n",
    "#s_p_e = math.ceil(n_train/batch_size)\n",
    "#model = AudioNet().cuda()\n",
    "#criterion = nn.CrossEntropyLoss(reduction='sum')\n",
    "#optimizer = torch.optim.SGD(model.parameters(), lr=lr)\n",
    "#scheduler = lr_scheduler.OneCycleLR(optimizer, max_lr=lr, \n",
    "#                                    steps_per_epoch=s_p_e, epochs=n_epochs, pct_start=0.4)\n",
    "#s_p_e"
   ]
  },
  {
   "cell_type": "code",
   "execution_count": 64,
   "id": "807b634d",
   "metadata": {},
   "outputs": [],
   "source": [
    "def training(my_dataloader):\n",
    "    total_loss = 0.0; n_correct = 0.0\n",
    "    n_samples = len(my_dataloader.dataset)\n",
    "    model.train()\n",
    "    for i, (data, labels) in enumerate(my_dataloader):\n",
    "        labels = labels.cuda(non_blocking=True)\n",
    "        outputs = model(data.cuda(non_blocking=True))\n",
    "        predictions = torch.argmax(outputs, dim=1)\n",
    "        n_correct += torch.sum(labels == predictions).item()\n",
    "        loss = criterion(outputs, labels)\n",
    "        total_loss += loss.item()\n",
    "        loss.backward()\n",
    "        nn.utils.clip_grad_value_(model.parameters(), clip_value=0.1)\n",
    "        optimizer.step()\n",
    "        scheduler.step()\n",
    "        optimizer.zero_grad()\n",
    "    return total_loss / n_samples, 100 * n_correct / n_samples"
   ]
  },
  {
   "cell_type": "code",
   "execution_count": 65,
   "id": "feca853e",
   "metadata": {},
   "outputs": [],
   "source": [
    "def evaluation(my_dataloader):\n",
    "    n_samples = len(my_dataloader.dataset)\n",
    "    with torch.no_grad():\n",
    "        total_loss = 0.0; n_correct = 0\n",
    "        model.eval()\n",
    "        for i, (data, labels) in enumerate(my_dataloader):\n",
    "            labels = labels.cuda(non_blocking=True)\n",
    "            outputs = model(data.cuda(non_blocking=True))\n",
    "            predictions = torch.argmax(outputs, dim=1)\n",
    "            n_correct += torch.sum(predictions == labels).item()\n",
    "            loss = criterion(outputs, labels)\n",
    "            total_loss += loss.item()\n",
    "    return total_loss / n_samples, 100 * n_correct/ n_samples\n"
   ]
  },
  {
   "cell_type": "code",
   "execution_count": 66,
   "id": "8f9a446a",
   "metadata": {},
   "outputs": [],
   "source": [
    "def fitting(epochs):\n",
    "    df = pd.DataFrame(\n",
    "        np.empty([epochs, 5]), \n",
    "        index=np.arange(epochs),\n",
    "        columns=['loss_train', 'acc_train', 'loss_val', 'acc_val', 'lr']\n",
    "    )\n",
    "    progress_bar = trange(epochs)\n",
    "    for i in progress_bar:\n",
    "        df.iloc[i, 0], df.iloc[i, 1] = training(trainDataloader)\n",
    "        df.iloc[i, 2], df.iloc[i, 3] = evaluation(valDataloader)\n",
    "        df.iloc[i, 4] = optimizer.param_groups[0]['lr']\n",
    "        progress_bar.set_description(\"train_loss=%.5f\" % df.iloc[i, 0])\n",
    "        progress_bar.set_postfix(\n",
    "            {'train_acc':df.iloc[i,1], 'test_acc':df.iloc[i, 3]}\n",
    "        )\n",
    "    return df\n",
    "\n",
    "#train_history = fitting(n_epochs)"
   ]
  },
  {
   "cell_type": "code",
   "execution_count": null,
   "id": "0517fbd7",
   "metadata": {},
   "outputs": [],
   "source": []
  }
 ],
 "metadata": {
  "kernelspec": {
   "display_name": "mosquitosClasificacion (3.12.3)",
   "language": "python",
   "name": "python3"
  },
  "language_info": {
   "codemirror_mode": {
    "name": "ipython",
    "version": 3
   },
   "file_extension": ".py",
   "mimetype": "text/x-python",
   "name": "python",
   "nbconvert_exporter": "python",
   "pygments_lexer": "ipython3",
   "version": "3.12.3"
  }
 },
 "nbformat": 4,
 "nbformat_minor": 5
}
