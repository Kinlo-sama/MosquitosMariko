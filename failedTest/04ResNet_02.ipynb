{
 "cells": [
  {
   "cell_type": "code",
   "execution_count": 22,
   "id": "dff4ad93",
   "metadata": {},
   "outputs": [],
   "source": [
    "import torch; import torch.nn as nn; from torch.optim import lr_scheduler\n",
    "import torch.optim as optim; from torch.utils.data.dataset import random_split as split \n",
    "from torch.utils.data import DataLoader, Dataset\n",
    "from torchvision import models\n",
    "from torchaudio import transforms\n",
    "\n",
    "from tqdm import trange\n",
    "import time\n",
    "from tempfile import TemporaryDirectory\n",
    "import matplotlib.pyplot as plt \n",
    "import numpy as np\n",
    "import librosa \n",
    "from sklearn.model_selection import train_test_split\n",
    "import pandas as pd\n",
    "import math\n",
    "import os\n",
    "\n",
    "MIN_SAMPLES = True\n",
    "PATH_ANNOTATIONS = 'Wingbeats/min_annotations.txt' if MIN_SAMPLES else 'Wingbeats/annotations.txt'\n",
    "n_classes = 6\n",
    "lr = 1e-4\n",
    "n_epochs = 50\n",
    "batch_size = 64\n",
    "SAMPLE_RATE = 8_000\n",
    "nyquist_frequency = SAMPLE_RATE / 2\n",
    "classes = ['An. gambiae', 'C. pipiens', 'C. quinquefasciatus', 'Ae. albopictus', 'An. arabiensis', 'Ae. aegypti']\n",
    "n_fft = 256\n",
    "device = torch.accelerator.current_accelerator().type if torch.accelerator.is_available else 'cpu'"
   ]
  },
  {
   "cell_type": "code",
   "execution_count": 23,
   "id": "934c8025",
   "metadata": {},
   "outputs": [],
   "source": [
    "def dividirDatos(archivoAnnotaciones, test_size=0.2, random_state=42):\n",
    "    df = pd.read_csv(archivoAnnotaciones)\n",
    "    train_df, test_df = train_test_split(\n",
    "        df, \n",
    "        test_size=test_size,\n",
    "        random_state=random_state,\n",
    "        stratify=df['label']\n",
    "    )\n",
    "    print('Total = ', len(df))\n",
    "    print('Total train = ', len(train_df))\n",
    "    print('Total test = ', len(test_df))\n",
    "    return train_df, test_df"
   ]
  },
  {
   "cell_type": "code",
   "execution_count": 24,
   "id": "8d4a045c",
   "metadata": {},
   "outputs": [],
   "source": [
    "class AudioDatasetFromTxt(Dataset):\n",
    "    def __init__(self, dataframe, transform=None):\n",
    "        self.dataframe = dataframe\n",
    "        self.transform = transform\n",
    "    \n",
    "    def __len__(self):\n",
    "        return len(self.dataframe)\n",
    "    \n",
    "    def __getitem__(self, index):\n",
    "        audio_path = self.dataframe.iloc[index]['file_path']\n",
    "        label = self.dataframe.iloc[index]['label']\n",
    "        \n",
    "        waveform, _ = librosa.load(audio_path, sr=SAMPLE_RATE)\n",
    "        \n",
    "        waveform = torch.from_numpy(waveform).float().unsqueeze(0)\n",
    "        \n",
    "        if self.transform:\n",
    "            spectrogram = self.transform(waveform)\n",
    "            return spectrogram, label\n",
    "        else:\n",
    "            return waveform, label"
   ]
  },
  {
   "cell_type": "code",
   "execution_count": 25,
   "id": "fc8ffae2",
   "metadata": {},
   "outputs": [],
   "source": [
    "spectrogram = transforms.Spectrogram(n_fft=n_fft, hop_length=n_fft//6)"
   ]
  },
  {
   "cell_type": "code",
   "execution_count": 26,
   "id": "28ce398a",
   "metadata": {},
   "outputs": [
    {
     "name": "stdout",
     "output_type": "stream",
     "text": [
      "Total =  115782\n",
      "Total train =  92625\n",
      "Total test =  23157\n"
     ]
    }
   ],
   "source": [
    "train_df, test_df = dividirDatos(PATH_ANNOTATIONS)"
   ]
  },
  {
   "cell_type": "code",
   "execution_count": 27,
   "id": "4febf241",
   "metadata": {},
   "outputs": [
    {
     "name": "stdout",
     "output_type": "stream",
     "text": [
      "{'train': 83362, 'val': 9263, 'test': 23157}\n",
      "83362 9263\n"
     ]
    }
   ],
   "source": [
    "train_dataset = AudioDatasetFromTxt(train_df, transform=spectrogram)\n",
    "test_dataset = AudioDatasetFromTxt(test_df, transform=spectrogram)\n",
    "\n",
    "subgroups = ['train', 'val', 'test']\n",
    "\n",
    "n_train = int(len(train_dataset) * 0.9)\n",
    "n_val = math.ceil(len(train_dataset) * 0.1)\n",
    "train_dataset, val_dataset = split(train_dataset, [n_train, n_val], \n",
    "                                   generator=torch.manual_seed(42))\n",
    "datasets_Audio = [train_dataset, val_dataset, test_dataset]\n",
    "audioFolder = {\n",
    "    x : datasets_Audio[i]\n",
    "    for i, x in enumerate(subgroups)\n",
    "}\n",
    "# Crear dataloaders\n",
    "dataloaders = { x : torch.utils.data.DataLoader(audioFolder[x], shuffle=True, \n",
    "                                                batch_size=batch_size, num_workers=4)\n",
    "               for x in subgroups}\n",
    "test_loader = DataLoader(audioFolder['test'], batch_size=batch_size, shuffle=False)\n",
    "dataset_size = {x : len(audioFolder[x])\n",
    "                for x in subgroups}\n",
    "print(dataset_size)\n",
    "print(n_train, n_val)"
   ]
  },
  {
   "cell_type": "code",
   "execution_count": 28,
   "id": "77fa8fd9",
   "metadata": {},
   "outputs": [],
   "source": [
    "def train_model(model, criterion, optimizer, scheduler, num_epochs=25):\n",
    "    df = pd.DataFrame(\n",
    "        np.empty([num_epochs, 5]), \n",
    "        index=np.arange(num_epochs),\n",
    "        columns=['loss_train', 'acc_train', 'loss_val', 'acc_val', 'lr']\n",
    "    )\n",
    "    since = time.time()\n",
    "\n",
    "    # Create a temporary directory to save training checkpoints\n",
    "    with TemporaryDirectory() as tempdir:\n",
    "        best_model_params_path = os.path.join(tempdir, 'best_model_params.pt')\n",
    "        torch.save(model.state_dict(), best_model_params_path)\n",
    "        best_acc = 0.0\n",
    "        rangeEpoch = trange(num_epochs)\n",
    "        for epoch in rangeEpoch:\n",
    "            print(f'Epoch {epoch}/{num_epochs - 1}')\n",
    "            print('-' * 10)\n",
    "            # Each epoch has a training and validation phase \n",
    "            for phase in ['train', 'val']:\n",
    "                if phase == 'train':\n",
    "                    model.train()\n",
    "                else:\n",
    "                    model.eval()\n",
    "                \n",
    "                running_loss = 0.0\n",
    "                running_correct = 0\n",
    "                # Iterate over data\n",
    "                for inputs, labels in dataloaders[phase]:\n",
    "                    inputs = inputs.to(device)\n",
    "                    labels = labels.to(device)\n",
    "\n",
    "                    # zero the parameter gradients\n",
    "                    optimizer.zero_grad()\n",
    "                    # forward \n",
    "                    # track history only if only in train\n",
    "                    with torch.set_grad_enabled(phase == 'train'):\n",
    "                        outputs = model(inputs)\n",
    "                        _, preds = torch.max(outputs, 1)\n",
    "                        loss = criterion(outputs, labels)\n",
    "                        # backward + optimizer only if training phase \n",
    "                        if phase == 'train':\n",
    "                            loss.backward()\n",
    "                            optimizer.step()\n",
    "                        \n",
    "                    #@ stadistics\n",
    "                    running_loss =+ loss.item() * inputs.size(0)\n",
    "                    running_correct += torch.sum(preds == labels.data)\n",
    "\n",
    "                if phase == 'train':\n",
    "                    scheduler.step()\n",
    "                    df.iloc[epoch, 4] = optimizer.param_groups[0]['lr']\n",
    "                    \n",
    "                epoch_loss = running_loss / dataset_size[phase]\n",
    "                epoch_acc = running_correct.double() / dataset_size[phase]\n",
    "                \n",
    "                if phase == 'train':\n",
    "                    df.iloc[epoch, 0], df.iloc[epoch, 1] = epoch_loss, epoch_acc.item()\n",
    "                else:\n",
    "                    df.iloc[epoch, 2], df.iloc[epoch, 3] = epoch_loss, epoch_acc.item()\n",
    "                \n",
    "                rangeEpoch.set_description(\"train_loss=%.5f\" % df.iloc[epoch, 0])\n",
    "                rangeEpoch.set_postfix(\n",
    "                            {'train_acc':df.iloc[epoch,1], 'test_acc':df.iloc[epoch, 3]}\n",
    "                )\n",
    "                \n",
    "                if phase == 'val' and epoch_acc > best_acc:\n",
    "                    torch.save(model.state_dict(), best_model_params_path)\n",
    "\n",
    "        time_elapsed = time.time() - since\n",
    "        print(f'Training complete in {time_elapsed // 60: .0f}m {time_elapsed % 60: .0f}s')\n",
    "        print(f'Best val Acc {best_acc:4f}')\n",
    "        model.load_state_dict(torch.load(best_model_params_path, weights_only=True))\n",
    "    return model, df"
   ]
  },
  {
   "cell_type": "code",
   "execution_count": 29,
   "id": "4f58b109",
   "metadata": {},
   "outputs": [],
   "source": [
    "class AudioModelResNet(nn.Module):\n",
    "    def __init__(self, num_classes):\n",
    "        super().__init__()\n",
    "        self.resnet = models.resnet101(weights=models.ResNet101_Weights.DEFAULT)\n",
    "        original_first_conv = self.resnet.conv1\n",
    "        self.resnet.conv1 = nn.Conv2d(\n",
    "            1, 64, kernel_size=7, stride=2, padding=3, bias=False\n",
    "        )\n",
    "        with torch.no_grad():\n",
    "            new_weights = original_first_conv.weight.mean(dim=1, keepdim=True)\n",
    "            self.resnet.conv1.weight.copy_(new_weights)\n",
    "        \n",
    "        num_features = self.resnet.fc.in_features\n",
    "        self.resnet.fc = nn.Linear(num_features, num_classes)\n",
    "\n",
    "    def forward(self, x):\n",
    "        return self.resnet(x)"
   ]
  },
  {
   "cell_type": "code",
   "execution_count": 30,
   "id": "b92591f5",
   "metadata": {},
   "outputs": [],
   "source": [
    "#model_ft = models.resnet18(weights='IMAGENET1K_V1')\n",
    "model_ft = AudioModelResNet(6)\n",
    "model_ft = model_ft.to(device)\n",
    "criterion = nn.CrossEntropyLoss()\n",
    "optimizer = optim.SGD(model_ft.parameters(), lr=0.001, momentum=0.9)\n",
    "exp_lr_scheduler = lr_scheduler.StepLR(optimizer, step_size=7, gamma=0.1)"
   ]
  },
  {
   "cell_type": "code",
   "execution_count": 31,
   "id": "176bb7f4",
   "metadata": {},
   "outputs": [
    {
     "name": "stderr",
     "output_type": "stream",
     "text": [
      "  0%|          | 0/50 [00:00<?, ?it/s]"
     ]
    },
    {
     "name": "stdout",
     "output_type": "stream",
     "text": [
      "Epoch 0/49\n",
      "----------\n"
     ]
    },
    {
     "name": "stderr",
     "output_type": "stream",
     "text": [
      "train_loss=0.00035:   2%|▏         | 1/50 [03:53<3:10:57, 233.82s/it, train_acc=0.517, test_acc=0.611]"
     ]
    },
    {
     "name": "stdout",
     "output_type": "stream",
     "text": [
      "Epoch 1/49\n",
      "----------\n"
     ]
    },
    {
     "name": "stderr",
     "output_type": "stream",
     "text": [
      "train_loss=0.00020:   4%|▍         | 2/50 [07:50<3:08:23, 235.48s/it, train_acc=0.753, test_acc=0.597]   "
     ]
    },
    {
     "name": "stdout",
     "output_type": "stream",
     "text": [
      "Epoch 2/49\n",
      "----------\n"
     ]
    },
    {
     "name": "stderr",
     "output_type": "stream",
     "text": [
      "train_loss=0.00024:   6%|▌         | 3/50 [11:50<3:06:07, 237.60s/it, train_acc=0.811, test_acc=0.602]    "
     ]
    },
    {
     "name": "stdout",
     "output_type": "stream",
     "text": [
      "Epoch 3/49\n",
      "----------\n"
     ]
    },
    {
     "name": "stderr",
     "output_type": "stream",
     "text": [
      "train_loss=0.00017:   8%|▊         | 4/50 [15:40<2:59:44, 234.44s/it, train_acc=0.844, test_acc=0.735]    "
     ]
    },
    {
     "name": "stdout",
     "output_type": "stream",
     "text": [
      "Epoch 4/49\n",
      "----------\n"
     ]
    },
    {
     "name": "stderr",
     "output_type": "stream",
     "text": [
      "train_loss=0.00013:  10%|█         | 5/50 [19:13<2:50:08, 226.86s/it, train_acc=0.864, test_acc=0.809]"
     ]
    },
    {
     "name": "stdout",
     "output_type": "stream",
     "text": [
      "Epoch 5/49\n",
      "----------\n"
     ]
    },
    {
     "name": "stderr",
     "output_type": "stream",
     "text": [
      "train_loss=0.00011:  12%|█▏        | 6/50 [22:44<2:42:17, 221.32s/it, train_acc=0.885, test_acc=0.559]    "
     ]
    },
    {
     "name": "stdout",
     "output_type": "stream",
     "text": [
      "Epoch 6/49\n",
      "----------\n"
     ]
    },
    {
     "name": "stderr",
     "output_type": "stream",
     "text": [
      "train_loss=0.00007:  14%|█▍        | 7/50 [26:11<2:35:27, 216.91s/it, train_acc=0.9, test_acc=0.621]    "
     ]
    },
    {
     "name": "stdout",
     "output_type": "stream",
     "text": [
      "Epoch 7/49\n",
      "----------\n"
     ]
    },
    {
     "name": "stderr",
     "output_type": "stream",
     "text": [
      "train_loss=0.00009:  16%|█▌        | 8/50 [29:53<2:32:52, 218.39s/it, train_acc=0.933, test_acc=0.592]"
     ]
    },
    {
     "name": "stdout",
     "output_type": "stream",
     "text": [
      "Epoch 8/49\n",
      "----------\n"
     ]
    },
    {
     "name": "stderr",
     "output_type": "stream",
     "text": [
      "train_loss=0.00006:  18%|█▊        | 9/50 [33:43<2:31:44, 222.06s/it, train_acc=0.942, test_acc=0.589]"
     ]
    },
    {
     "name": "stdout",
     "output_type": "stream",
     "text": [
      "Epoch 9/49\n",
      "----------\n"
     ]
    },
    {
     "name": "stderr",
     "output_type": "stream",
     "text": [
      "train_loss=0.00008:  20%|██        | 10/50 [37:29<2:28:43, 223.10s/it, train_acc=0.947, test_acc=0.557]  "
     ]
    },
    {
     "name": "stdout",
     "output_type": "stream",
     "text": [
      "Epoch 10/49\n",
      "----------\n"
     ]
    },
    {
     "name": "stderr",
     "output_type": "stream",
     "text": [
      "train_loss=0.00010:  22%|██▏       | 11/50 [41:04<2:23:32, 220.83s/it, train_acc=0.951, test_acc=0.58] "
     ]
    },
    {
     "name": "stdout",
     "output_type": "stream",
     "text": [
      "Epoch 11/49\n",
      "----------\n"
     ]
    },
    {
     "name": "stderr",
     "output_type": "stream",
     "text": [
      "train_loss=0.00005:  24%|██▍       | 12/50 [44:48<2:20:19, 221.56s/it, train_acc=0.954, test_acc=0.552]"
     ]
    },
    {
     "name": "stdout",
     "output_type": "stream",
     "text": [
      "Epoch 12/49\n",
      "----------\n"
     ]
    },
    {
     "name": "stderr",
     "output_type": "stream",
     "text": [
      "train_loss=0.00003:  26%|██▌       | 13/50 [48:28<2:16:30, 221.37s/it, train_acc=0.958, test_acc=0.584]"
     ]
    },
    {
     "name": "stdout",
     "output_type": "stream",
     "text": [
      "Epoch 13/49\n",
      "----------\n"
     ]
    },
    {
     "name": "stderr",
     "output_type": "stream",
     "text": [
      "train_loss=0.00006:  28%|██▊       | 14/50 [52:12<2:13:16, 222.12s/it, train_acc=0.96, test_acc=0.591] "
     ]
    },
    {
     "name": "stdout",
     "output_type": "stream",
     "text": [
      "Epoch 14/49\n",
      "----------\n"
     ]
    },
    {
     "name": "stderr",
     "output_type": "stream",
     "text": [
      "train_loss=0.00007:  30%|███       | 15/50 [55:52<2:09:12, 221.50s/it, train_acc=0.964, test_acc=0.589]   "
     ]
    },
    {
     "name": "stdout",
     "output_type": "stream",
     "text": [
      "Epoch 15/49\n",
      "----------\n"
     ]
    },
    {
     "name": "stderr",
     "output_type": "stream",
     "text": [
      "train_loss=0.00002:  32%|███▏      | 16/50 [59:35<2:05:41, 221.80s/it, train_acc=0.966, test_acc=0.574]"
     ]
    },
    {
     "name": "stdout",
     "output_type": "stream",
     "text": [
      "Epoch 16/49\n",
      "----------\n"
     ]
    },
    {
     "name": "stderr",
     "output_type": "stream",
     "text": [
      "train_loss=0.00001:  34%|███▍      | 17/50 [1:03:24<2:03:14, 224.08s/it, train_acc=0.965, test_acc=0.576]    "
     ]
    },
    {
     "name": "stdout",
     "output_type": "stream",
     "text": [
      "Epoch 17/49\n",
      "----------\n"
     ]
    },
    {
     "name": "stderr",
     "output_type": "stream",
     "text": [
      "train_loss=0.00006:  36%|███▌      | 18/50 [1:07:13<2:00:14, 225.46s/it, train_acc=0.966, test_acc=0.588]    "
     ]
    },
    {
     "name": "stdout",
     "output_type": "stream",
     "text": [
      "Epoch 18/49\n",
      "----------\n"
     ]
    },
    {
     "name": "stderr",
     "output_type": "stream",
     "text": [
      "train_loss=0.00006:  38%|███▊      | 19/50 [1:11:01<1:56:53, 226.23s/it, train_acc=0.966, test_acc=0.598]"
     ]
    },
    {
     "name": "stdout",
     "output_type": "stream",
     "text": [
      "Epoch 19/49\n",
      "----------\n"
     ]
    },
    {
     "name": "stderr",
     "output_type": "stream",
     "text": [
      "train_loss=0.00006:  40%|████      | 20/50 [1:14:52<1:53:46, 227.56s/it, train_acc=0.967, test_acc=0.584]   "
     ]
    },
    {
     "name": "stdout",
     "output_type": "stream",
     "text": [
      "Epoch 20/49\n",
      "----------\n"
     ]
    },
    {
     "name": "stderr",
     "output_type": "stream",
     "text": [
      "train_loss=0.00003:  42%|████▏     | 21/50 [1:18:40<1:50:08, 227.87s/it, train_acc=0.967, test_acc=0.572]    "
     ]
    },
    {
     "name": "stdout",
     "output_type": "stream",
     "text": [
      "Epoch 21/49\n",
      "----------\n"
     ]
    },
    {
     "name": "stderr",
     "output_type": "stream",
     "text": [
      "train_loss=0.00004:  44%|████▍     | 22/50 [1:22:29<1:46:24, 228.01s/it, train_acc=0.968, test_acc=0.592]"
     ]
    },
    {
     "name": "stdout",
     "output_type": "stream",
     "text": [
      "Epoch 22/49\n",
      "----------\n"
     ]
    },
    {
     "name": "stderr",
     "output_type": "stream",
     "text": [
      "train_loss=0.00005:  46%|████▌     | 23/50 [1:26:11<1:41:53, 226.42s/it, train_acc=0.968, test_acc=0.585]"
     ]
    },
    {
     "name": "stdout",
     "output_type": "stream",
     "text": [
      "Epoch 23/49\n",
      "----------\n"
     ]
    },
    {
     "name": "stderr",
     "output_type": "stream",
     "text": [
      "train_loss=0.00005:  48%|████▊     | 24/50 [1:30:00<1:38:24, 227.09s/it, train_acc=0.967, test_acc=0.594]"
     ]
    },
    {
     "name": "stdout",
     "output_type": "stream",
     "text": [
      "Epoch 24/49\n",
      "----------\n"
     ]
    },
    {
     "name": "stderr",
     "output_type": "stream",
     "text": [
      "train_loss=0.00002:  50%|█████     | 25/50 [1:33:42<1:33:59, 225.60s/it, train_acc=0.968, test_acc=0.592]   "
     ]
    },
    {
     "name": "stdout",
     "output_type": "stream",
     "text": [
      "Epoch 25/49\n",
      "----------\n"
     ]
    },
    {
     "name": "stderr",
     "output_type": "stream",
     "text": [
      "train_loss=0.00007:  52%|█████▏    | 26/50 [1:37:23<1:29:44, 224.34s/it, train_acc=0.968, test_acc=0.597]    "
     ]
    },
    {
     "name": "stdout",
     "output_type": "stream",
     "text": [
      "Epoch 26/49\n",
      "----------\n"
     ]
    },
    {
     "name": "stderr",
     "output_type": "stream",
     "text": [
      "train_loss=0.00007:  54%|█████▍    | 27/50 [1:41:09<1:26:08, 224.71s/it, train_acc=0.967, test_acc=0.58]  "
     ]
    },
    {
     "name": "stdout",
     "output_type": "stream",
     "text": [
      "Epoch 27/49\n",
      "----------\n"
     ]
    },
    {
     "name": "stderr",
     "output_type": "stream",
     "text": [
      "train_loss=0.00003:  56%|█████▌    | 28/50 [1:44:59<1:22:57, 226.24s/it, train_acc=0.967, test_acc=0.59]"
     ]
    },
    {
     "name": "stdout",
     "output_type": "stream",
     "text": [
      "Epoch 28/49\n",
      "----------\n"
     ]
    },
    {
     "name": "stderr",
     "output_type": "stream",
     "text": [
      "train_loss=0.00008:  58%|█████▊    | 29/50 [1:48:46<1:19:18, 226.61s/it, train_acc=0.968, test_acc=0.567]   "
     ]
    },
    {
     "name": "stdout",
     "output_type": "stream",
     "text": [
      "Epoch 29/49\n",
      "----------\n"
     ]
    },
    {
     "name": "stderr",
     "output_type": "stream",
     "text": [
      "train_loss=0.00001:  60%|██████    | 30/50 [1:52:33<1:15:34, 226.70s/it, train_acc=0.969, test_acc=0.567]   "
     ]
    },
    {
     "name": "stdout",
     "output_type": "stream",
     "text": [
      "Epoch 30/49\n",
      "----------\n"
     ]
    },
    {
     "name": "stderr",
     "output_type": "stream",
     "text": [
      "train_loss=0.00002:  62%|██████▏   | 31/50 [1:56:19<1:11:41, 226.38s/it, train_acc=0.968, test_acc=0.58]     "
     ]
    },
    {
     "name": "stdout",
     "output_type": "stream",
     "text": [
      "Epoch 31/49\n",
      "----------\n"
     ]
    },
    {
     "name": "stderr",
     "output_type": "stream",
     "text": [
      "train_loss=0.00005:  64%|██████▍   | 32/50 [2:00:09<1:08:13, 227.44s/it, train_acc=0.968, test_acc=0.591]    "
     ]
    },
    {
     "name": "stdout",
     "output_type": "stream",
     "text": [
      "Epoch 32/49\n",
      "----------\n"
     ]
    },
    {
     "name": "stderr",
     "output_type": "stream",
     "text": [
      "train_loss=0.00006:  66%|██████▌   | 33/50 [2:03:56<1:04:25, 227.40s/it, train_acc=0.968, test_acc=0.604]"
     ]
    },
    {
     "name": "stdout",
     "output_type": "stream",
     "text": [
      "Epoch 33/49\n",
      "----------\n"
     ]
    },
    {
     "name": "stderr",
     "output_type": "stream",
     "text": [
      "train_loss=0.00003:  68%|██████▊   | 34/50 [2:07:47<1:00:56, 228.54s/it, train_acc=0.968, test_acc=0.559]   "
     ]
    },
    {
     "name": "stdout",
     "output_type": "stream",
     "text": [
      "Epoch 34/49\n",
      "----------\n"
     ]
    },
    {
     "name": "stderr",
     "output_type": "stream",
     "text": [
      "train_loss=0.00005:  70%|███████   | 35/50 [2:11:35<57:03, 228.22s/it, train_acc=0.968, test_acc=0.564]  "
     ]
    },
    {
     "name": "stdout",
     "output_type": "stream",
     "text": [
      "Epoch 35/49\n",
      "----------\n"
     ]
    },
    {
     "name": "stderr",
     "output_type": "stream",
     "text": [
      "train_loss=0.00004:  72%|███████▏  | 36/50 [2:15:11<52:25, 224.68s/it, train_acc=0.968, test_acc=0.583] "
     ]
    },
    {
     "name": "stdout",
     "output_type": "stream",
     "text": [
      "Epoch 36/49\n",
      "----------\n"
     ]
    },
    {
     "name": "stderr",
     "output_type": "stream",
     "text": [
      "train_loss=0.00013:  74%|███████▍  | 37/50 [2:18:50<48:17, 222.88s/it, train_acc=0.968, test_acc=0.589]    "
     ]
    },
    {
     "name": "stdout",
     "output_type": "stream",
     "text": [
      "Epoch 37/49\n",
      "----------\n"
     ]
    },
    {
     "name": "stderr",
     "output_type": "stream",
     "text": [
      "train_loss=0.00004:  76%|███████▌  | 38/50 [2:22:28<44:18, 221.55s/it, train_acc=0.968, test_acc=0.584]    "
     ]
    },
    {
     "name": "stdout",
     "output_type": "stream",
     "text": [
      "Epoch 38/49\n",
      "----------\n"
     ]
    },
    {
     "name": "stderr",
     "output_type": "stream",
     "text": [
      "train_loss=0.00006:  78%|███████▊  | 39/50 [2:26:09<40:33, 221.20s/it, train_acc=0.968, test_acc=0.569]   "
     ]
    },
    {
     "name": "stdout",
     "output_type": "stream",
     "text": [
      "Epoch 39/49\n",
      "----------\n"
     ]
    },
    {
     "name": "stderr",
     "output_type": "stream",
     "text": [
      "train_loss=0.00004:  80%|████████  | 40/50 [2:29:48<36:45, 220.54s/it, train_acc=0.968, test_acc=0.599]"
     ]
    },
    {
     "name": "stdout",
     "output_type": "stream",
     "text": [
      "Epoch 40/49\n",
      "----------\n"
     ]
    },
    {
     "name": "stderr",
     "output_type": "stream",
     "text": [
      "train_loss=0.00002:  82%|████████▏ | 41/50 [2:33:25<32:56, 219.65s/it, train_acc=0.967, test_acc=0.585]    "
     ]
    },
    {
     "name": "stdout",
     "output_type": "stream",
     "text": [
      "Epoch 41/49\n",
      "----------\n"
     ]
    },
    {
     "name": "stderr",
     "output_type": "stream",
     "text": [
      "train_loss=0.00012:  84%|████████▍ | 42/50 [2:37:03<29:12, 219.10s/it, train_acc=0.967, test_acc=0.58] "
     ]
    },
    {
     "name": "stdout",
     "output_type": "stream",
     "text": [
      "Epoch 42/49\n",
      "----------\n"
     ]
    },
    {
     "name": "stderr",
     "output_type": "stream",
     "text": [
      "train_loss=0.00008:  86%|████████▌ | 43/50 [2:40:41<25:31, 218.73s/it, train_acc=0.968, test_acc=0.573]"
     ]
    },
    {
     "name": "stdout",
     "output_type": "stream",
     "text": [
      "Epoch 43/49\n",
      "----------\n"
     ]
    },
    {
     "name": "stderr",
     "output_type": "stream",
     "text": [
      "train_loss=0.00003:  88%|████████▊ | 44/50 [2:44:36<22:21, 223.57s/it, train_acc=0.968, test_acc=0.574]   "
     ]
    },
    {
     "name": "stdout",
     "output_type": "stream",
     "text": [
      "Epoch 44/49\n",
      "----------\n"
     ]
    },
    {
     "name": "stderr",
     "output_type": "stream",
     "text": [
      "train_loss=0.00003:  90%|█████████ | 45/50 [2:48:34<18:59, 227.95s/it, train_acc=0.968, test_acc=0.574]"
     ]
    },
    {
     "name": "stdout",
     "output_type": "stream",
     "text": [
      "Epoch 45/49\n",
      "----------\n"
     ]
    },
    {
     "name": "stderr",
     "output_type": "stream",
     "text": [
      "train_loss=0.00005:  92%|█████████▏| 46/50 [2:52:32<15:24, 231.10s/it, train_acc=0.968, test_acc=0.594]"
     ]
    },
    {
     "name": "stdout",
     "output_type": "stream",
     "text": [
      "Epoch 46/49\n",
      "----------\n"
     ]
    },
    {
     "name": "stderr",
     "output_type": "stream",
     "text": [
      "train_loss=0.00004:  94%|█████████▍| 47/50 [2:56:30<11:39, 233.20s/it, train_acc=0.969, test_acc=0.581]"
     ]
    },
    {
     "name": "stdout",
     "output_type": "stream",
     "text": [
      "Epoch 47/49\n",
      "----------\n"
     ]
    },
    {
     "name": "stderr",
     "output_type": "stream",
     "text": [
      "train_loss=0.00007:  96%|█████████▌| 48/50 [3:00:30<07:50, 235.05s/it, train_acc=0.968, test_acc=0.54]    "
     ]
    },
    {
     "name": "stdout",
     "output_type": "stream",
     "text": [
      "Epoch 48/49\n",
      "----------\n"
     ]
    },
    {
     "name": "stderr",
     "output_type": "stream",
     "text": [
      "train_loss=0.00003:  98%|█████████▊| 49/50 [3:04:29<03:56, 236.24s/it, train_acc=0.968, test_acc=0.581] "
     ]
    },
    {
     "name": "stdout",
     "output_type": "stream",
     "text": [
      "Epoch 49/49\n",
      "----------\n"
     ]
    },
    {
     "name": "stderr",
     "output_type": "stream",
     "text": [
      "train_loss=0.00010: 100%|██████████| 50/50 [3:08:27<00:00, 226.15s/it, train_acc=0.967, test_acc=0.593]\n"
     ]
    },
    {
     "name": "stdout",
     "output_type": "stream",
     "text": [
      "Training complete in  188m  28s\n",
      "Best val Acc 0.000000\n"
     ]
    }
   ],
   "source": [
    "modelo = 'resnet'\n",
    "version = '101'\n",
    "PATH_RESNET = f'./resultados/{modelo}{version}AudioBalanceado.pt' if MIN_SAMPLES else f'./resultados/{modelo}{version}AudioNoBalanceado.pt'\n",
    "PATH_CSV_RESULTADOS = f'./resultados/{modelo}{version}ResultadoBalanceado.csv' if MIN_SAMPLES else f'./resultados/{modelo}{version}ResultadoNoBalanceado.csv'\n",
    "if not os.path.exists(PATH_RESNET):\n",
    "    model_ft, df = train_model(model_ft, criterion, optimizer, exp_lr_scheduler, num_epochs=n_epochs)\n",
    "    df.to_csv(PATH_CSV_RESULTADOS,index=False)\n",
    "    torch.save(model_ft, PATH_RESNET)"
   ]
  }
 ],
 "metadata": {
  "kernelspec": {
   "display_name": "mosquitosClasificacion (3.12.3)",
   "language": "python",
   "name": "python3"
  },
  "language_info": {
   "codemirror_mode": {
    "name": "ipython",
    "version": 3
   },
   "file_extension": ".py",
   "mimetype": "text/x-python",
   "name": "python",
   "nbconvert_exporter": "python",
   "pygments_lexer": "ipython3",
   "version": "3.12.3"
  }
 },
 "nbformat": 4,
 "nbformat_minor": 5
}
